{
 "cells": [
  {
   "cell_type": "code",
   "execution_count": null,
   "metadata": {
    "collapsed": false
   },
   "outputs": [],
   "source": [
    "import matplotlib.pyplot as plt\n",
    "\n",
    "name = \"Color_aw\"\n",
    "pupilX=[]\n",
    "pupilY=[]\n",
    "triggerX=[]\n",
    "triggerY=[]\n",
    "lookX=[]\n",
    "lookY=[]\n",
    "\n",
    "f = open(name+'/Eye/PupilDialationX.txt', 'r')\n",
    "for line in f:\n",
    "    pupilX.append(float(line))\n",
    "f.close()\n",
    "g = open(name+'/Eye/PupilDialationY.txt', 'r')\n",
    "for line in g:\n",
    "    pupilY.append(float(line))\n",
    "g.close()\n",
    "\n",
    "f = open(name+'/Triggers/TriggerEventLogX.txt', 'r')\n",
    "for line in f:\n",
    "    triggerX.append(float(line))\n",
    "f.close()\n",
    "g = open(name+'/Triggers/TriggerEventLogY.txt', 'r')\n",
    "for line in g:\n",
    "    triggerY.append(float(line))\n",
    "g.close()\n",
    "\n",
    "f = open(name+'/Looking/GameLookingDataX.txt', 'r')\n",
    "for line in f:\n",
    "    lookX.append(float(line))\n",
    "f.close()\n",
    "g = open(name+'/Looking/GameLookingDataY.txt', 'r')\n",
    "for line in g:\n",
    "    lookY.append(float(line))\n",
    "g.close()\n",
    "\n",
    "############################\n",
    "# I samme graf\n",
    "###########################\n",
    "\n",
    "\n",
    "\n",
    "plt.xlabel('Time')\n",
    "plt.ylabel('Milimeters x 10')\n",
    "plt.plot(pupilX,pupilY,label=\"PupDia\")\n",
    "plt.bar(triggerX,triggerY,color = 'r',edgecolor = 'r', width = 0.05, label=\"Trig\")\n",
    "plt.plot(lookX,lookY,color = 'k',label=\"Look\")\n",
    "\n",
    "plt.show()"
   ]
  },
  {
   "cell_type": "code",
   "execution_count": 100,
   "metadata": {
    "collapsed": false
   },
   "outputs": [
    {
     "name": "stdout",
     "output_type": "stream",
     "text": [
      "[ 27.7293  27.7293  27.7293 ...,  27.7293  27.7293  27.7293]\n",
      "2761\n",
      "2761\n"
     ]
    }
   ],
   "source": [
    "import numpy as np\n",
    "\n",
    "#print len(pupilY)\n",
    "\n",
    "pupilY = np.array(pupilY)\n",
    "#print(pupilY)\n",
    "\n",
    "def reject_outliers(data, m = 3.):\n",
    "    d = np.abs(data - np.median(data))\n",
    "    mdev = np.median(d)\n",
    "    s = d/mdev if mdev else 0.\n",
    "    return data[s<m] \n",
    "\n",
    "def replace(data):\n",
    "    median = np.median(data)\n",
    "    std = np.std(data)\n",
    "    outliers = np.abs(data - median) > 2*std\n",
    "    data[outliers] = median\n",
    "    return data\n",
    "\n",
    "#TAG MEDIAN FRA NÅR LYSET SLUKKER\n",
    "\n",
    "#pupilY2 = reject_outliers(pupilY)\n",
    "for x in range(0, 9):\n",
    "    pupilY2 = replace(pupilY)\n",
    "print(pupilY2)\n",
    "#    mean, std = group.mean(), group.std()\n",
    "#   outliers = (group - mean).abs() > 3*std\n",
    "#  group[outliers] = mean        # or \"group[~outliers].mean()\"\n",
    "# return group\n",
    "pupilY2 = pupilY2.tolist()\n",
    "#print pupilY2\n",
    "\n",
    "#n = len(pupilX) - len(pupilY2)\n",
    "#del pupilX[-n:]\n",
    "print len(pupilX)\n",
    "print len(pupilY2)\n",
    "\n",
    "############################\n",
    "# I samme graf\n",
    "###########################\n",
    "\n",
    "\n",
    "\n",
    "plt.xlabel('Time')\n",
    "plt.ylabel('Milimeters x 10')\n",
    "plt.plot(pupilX,pupilY2,label=\"PupDia\")\n",
    "plt.bar(triggerX,triggerY,color = 'r',edgecolor = 'r', width = 0.05, label=\"Trig\")\n",
    "plt.plot(lookX,lookY,color = 'k',label=\"Look\")\n",
    "\n",
    "plt.show()"
   ]
  },
  {
   "cell_type": "code",
   "execution_count": 6,
   "metadata": {
    "collapsed": true
   },
   "outputs": [],
   "source": [
    "pupilLeft=[]\n",
    "pupilRight=[]\n",
    "\n",
    "f = open(name+'/Eye/PupilDialationLeft.txt', 'r')\n",
    "for line in f:\n",
    "    pupilLeft.append(float(line))\n",
    "f.close()\n",
    "g = open(name+'/Eye/PupilDialationRight.txt', 'r')\n",
    "for line in g:\n",
    "    pupilRight.append(float(line))\n",
    "g.close()"
   ]
  },
  {
   "cell_type": "code",
   "execution_count": 72,
   "metadata": {
    "collapsed": false
   },
   "outputs": [],
   "source": [
    "############################\n",
    "# I samme graf\n",
    "###########################\n",
    "\n",
    "\n",
    "\n",
    "plt.xlabel('Time')\n",
    "plt.ylabel('Milimeters')\n",
    "plt.title('Features of the game')\n",
    "plt.plot(pupilX,pupilY,label=\"PupDia\")\n",
    "plt.bar(triggerX,triggerY,color = 'r',edgecolor = 'r', width = 0.05, label=\"Trig\")\n",
    "plt.plot(lookX,lookY,color = 'k',label=\"Look\")\n",
    "\n",
    "plt.show()"
   ]
  },
  {
   "cell_type": "code",
   "execution_count": 10,
   "metadata": {
    "collapsed": false
   },
   "outputs": [],
   "source": [
    "plt.figure(\"OneGraph1\")\n",
    "plt.xlabel('Time')\n",
    "plt.ylabel('Milimeters')\n",
    "plt.title('Features of the game')\n",
    "plt.plot(pupilX,pupilRight)\n",
    "plt.plot(pupilX,pupilLeft)\n",
    "plt.bar(triggerX,triggerY,color = 'r',edgecolor = 'r', width = 0.05, label=\"Trig\")\n",
    "plt.show()"
   ]
  },
  {
   "cell_type": "code",
   "execution_count": null,
   "metadata": {
    "collapsed": true
   },
   "outputs": [],
   "source": []
  },
  {
   "cell_type": "code",
   "execution_count": 134,
   "metadata": {
    "collapsed": false
   },
   "outputs": [
    {
     "ename": "NameError",
     "evalue": "name 'X' is not defined",
     "output_type": "error",
     "traceback": [
      "\u001b[1;31m---------------------------------------------------------------------------\u001b[0m",
      "\u001b[1;31mNameError\u001b[0m                                 Traceback (most recent call last)",
      "\u001b[1;32m<ipython-input-134-debaf9ddb5f2>\u001b[0m in \u001b[0;36m<module>\u001b[1;34m()\u001b[0m\n\u001b[0;32m      9\u001b[0m \u001b[0mplt\u001b[0m\u001b[1;33m.\u001b[0m\u001b[0mylabel\u001b[0m\u001b[1;33m(\u001b[0m\u001b[1;34m'Y'\u001b[0m\u001b[1;33m)\u001b[0m\u001b[1;33m\u001b[0m\u001b[0m\n\u001b[0;32m     10\u001b[0m \u001b[0mplt\u001b[0m\u001b[1;33m.\u001b[0m\u001b[0mtitle\u001b[0m\u001b[1;33m(\u001b[0m\u001b[1;34m'Two grafs'\u001b[0m\u001b[1;33m)\u001b[0m\u001b[1;33m\u001b[0m\u001b[0m\n\u001b[1;32m---> 11\u001b[1;33m \u001b[0mplt\u001b[0m\u001b[1;33m.\u001b[0m\u001b[0mplot\u001b[0m\u001b[1;33m(\u001b[0m\u001b[0mX\u001b[0m\u001b[1;33m,\u001b[0m\u001b[0mlabel\u001b[0m\u001b[1;33m=\u001b[0m\u001b[1;34m\"X\"\u001b[0m\u001b[1;33m)\u001b[0m\u001b[1;33m\u001b[0m\u001b[0m\n\u001b[0m\u001b[0;32m     12\u001b[0m \u001b[0mplt\u001b[0m\u001b[1;33m.\u001b[0m\u001b[0msubplot\u001b[0m\u001b[1;33m(\u001b[0m\u001b[1;36m2\u001b[0m\u001b[1;33m,\u001b[0m \u001b[1;36m1\u001b[0m\u001b[1;33m,\u001b[0m \u001b[1;36m2\u001b[0m\u001b[1;33m)\u001b[0m\u001b[1;33m\u001b[0m\u001b[0m\n\u001b[0;32m     13\u001b[0m \u001b[0mplt\u001b[0m\u001b[1;33m.\u001b[0m\u001b[0mxlabel\u001b[0m\u001b[1;33m(\u001b[0m\u001b[1;34m'Y'\u001b[0m\u001b[1;33m)\u001b[0m\u001b[1;33m\u001b[0m\u001b[0m\n",
      "\u001b[1;31mNameError\u001b[0m: name 'X' is not defined"
     ]
    }
   ],
   "source": [
    "############################\n",
    "# Hver deres graf\n",
    "###########################\n",
    "\n",
    "\n",
    "plt.figure(\"2\")\n",
    "plt.subplot(2, 1, 1)\n",
    "plt.xlabel('X')\n",
    "plt.ylabel('Y')\n",
    "plt.title('Two grafs')\n",
    "plt.plot(X,label=\"X\")\n",
    "plt.subplot(2, 1, 2)\n",
    "plt.xlabel('Y')\n",
    "plt.ylabel('Coordination')\n",
    "plt.plot(Y,label=\"Y\")\n",
    "\n",
    "plt.show()"
   ]
  },
  {
   "cell_type": "code",
   "execution_count": 19,
   "metadata": {
    "collapsed": false
   },
   "outputs": [],
   "source": []
  },
  {
   "cell_type": "code",
   "execution_count": 2,
   "metadata": {
    "collapsed": false
   },
   "outputs": [],
   "source": []
  },
  {
   "cell_type": "code",
   "execution_count": null,
   "metadata": {
    "collapsed": true
   },
   "outputs": [],
   "source": []
  }
 ],
 "metadata": {
  "kernelspec": {
   "display_name": "Python 2",
   "language": "python",
   "name": "python2"
  },
  "language_info": {
   "codemirror_mode": {
    "name": "ipython",
    "version": 2
   },
   "file_extension": ".py",
   "mimetype": "text/x-python",
   "name": "python",
   "nbconvert_exporter": "python",
   "pygments_lexer": "ipython2",
   "version": "2.7.11"
  }
 },
 "nbformat": 4,
 "nbformat_minor": 0
}
