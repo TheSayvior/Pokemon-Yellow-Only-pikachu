{
 "cells": [
  {
   "cell_type": "code",
   "execution_count": 1,
   "metadata": {
    "collapsed": false
   },
   "outputs": [],
   "source": [
    "import matplotlib.pyplot as plt\n",
    "X=[]\n",
    "Y=[]\n",
    "f = open('GameLookingDataX.txt', 'r')\n",
    "for line in f:\n",
    "    X.append(float(line))\n",
    "f.close()\n",
    "g = open('GameLookingDataY.txt', 'r')\n",
    "for line in g:\n",
    "    Y.append(float(line))\n",
    "g.close()"
   ]
  },
  {
   "cell_type": "code",
   "execution_count": 6,
   "metadata": {
    "collapsed": false
   },
   "outputs": [],
   "source": [
    "############################\n",
    "# Hver deres graf\n",
    "###########################\n",
    "\n",
    "\n",
    "plt.figure(\"2\")\n",
    "plt.subplot(2, 1, 1)\n",
    "plt.xlabel('X')\n",
    "plt.ylabel('Y')\n",
    "plt.title('Two grafs')\n",
    "plt.plot(X,label=\"X\")\n",
    "plt.subplot(2, 1, 2)\n",
    "plt.xlabel('Y')\n",
    "plt.ylabel('Coordination')\n",
    "plt.plot(Y,label=\"Y\")\n",
    "\n",
    "plt.show()"
   ]
  },
  {
   "cell_type": "code",
   "execution_count": 8,
   "metadata": {
    "collapsed": false
   },
   "outputs": [],
   "source": [
    "############################\n",
    "# I samme graf\n",
    "###########################\n",
    "\n",
    "\n",
    "plt.figure(\"2\")\n",
    "plt.xlabel('Observation')\n",
    "plt.ylabel('Coordination')\n",
    "plt.title('One graf')\n",
    "plt.plot(X,label=\"X\")\n",
    "plt.plot(Y,label=\"Y\")\n",
    "plt.legend()\n",
    "\n",
    "plt.show()"
   ]
  },
  {
   "cell_type": "code",
   "execution_count": 2,
   "metadata": {
    "collapsed": false
   },
   "outputs": [],
   "source": [
    "plt.figure(\"5\")\n",
    "plt.plot(X,Y)\n",
    "plt.show()"
   ]
  },
  {
   "cell_type": "code",
   "execution_count": null,
   "metadata": {
    "collapsed": true
   },
   "outputs": [],
   "source": []
  }
 ],
 "metadata": {
  "kernelspec": {
   "display_name": "Python 2",
   "language": "python",
   "name": "python2"
  },
  "language_info": {
   "codemirror_mode": {
    "name": "ipython",
    "version": 2
   },
   "file_extension": ".py",
   "mimetype": "text/x-python",
   "name": "python",
   "nbconvert_exporter": "python",
   "pygments_lexer": "ipython2",
   "version": "2.7.11"
  }
 },
 "nbformat": 4,
 "nbformat_minor": 0
}
